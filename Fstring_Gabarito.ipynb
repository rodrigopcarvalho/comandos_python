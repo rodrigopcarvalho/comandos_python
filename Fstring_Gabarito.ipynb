{
  "cells": [
    {
      "cell_type": "markdown",
      "metadata": {
        "id": "view-in-github",
        "colab_type": "text"
      },
      "source": [
        "<a href=\"https://colab.research.google.com/github/rodrigopcarvalho/comandos_python/blob/main/Fstring_Gabarito.ipynb\" target=\"_parent\"><img src=\"https://colab.research.google.com/assets/colab-badge.svg\" alt=\"Open In Colab\"/></a>"
      ]
    },
    {
      "cell_type": "markdown",
      "id": "61496eca",
      "metadata": {
        "id": "61496eca"
      },
      "source": [
        "### F-string em Python\n",
        "\n",
        "##### Variáveis em texto"
      ]
    },
    {
      "cell_type": "code",
      "execution_count": null,
      "id": "01127843",
      "metadata": {
        "id": "01127843",
        "outputId": "bf8933ea-fa21-42bd-8ca9-b8b49f1dc53c"
      },
      "outputs": [
        {
          "name": "stdout",
          "output_type": "stream",
          "text": [
            "Faturamento: 1000\n"
          ]
        }
      ],
      "source": [
        "faturamento = 1000\n",
        "\n",
        "print(f\"Faturamento: {faturamento}\")"
      ]
    },
    {
      "cell_type": "code",
      "execution_count": null,
      "id": "1ba75711",
      "metadata": {
        "id": "1ba75711",
        "outputId": "e8d50444-6672-43c7-dc78-f0d0eb4afb75"
      },
      "outputs": [
        {
          "name": "stdout",
          "output_type": "stream",
          "text": [
            "Produto,Quantidade,Valor\n",
            "iphone,2,12000\n",
            "macbook,1,15000\n",
            "airpod,5,10000\n"
          ]
        }
      ],
      "source": [
        "nome_arquivo = \"vendas.txt\"\n",
        "caminho = r'C:\\Users\\joaol\\Desktop\\Videos Youtube\\fstring'\n",
        "arquivo = open(f\"{caminho}/{nome_arquivo}\", \"r\")\n",
        "print(arquivo.read())\n",
        "arquivo.close()"
      ]
    },
    {
      "cell_type": "markdown",
      "id": "4d5751f8",
      "metadata": {
        "id": "4d5751f8"
      },
      "source": [
        "##### Formatando com casa decimal"
      ]
    },
    {
      "cell_type": "code",
      "execution_count": null,
      "id": "bcb8e16e",
      "metadata": {
        "id": "bcb8e16e",
        "outputId": "dd140b84-f242-4ae7-bef2-99fa097925a1"
      },
      "outputs": [
        {
          "name": "stdout",
          "output_type": "stream",
          "text": [
            "Faturamento: 1000.00\n"
          ]
        }
      ],
      "source": [
        "print(f\"Faturamento: {faturamento:.2f}\")"
      ]
    },
    {
      "cell_type": "markdown",
      "id": "712eeafa",
      "metadata": {
        "id": "712eeafa"
      },
      "source": [
        "##### Formato Moeda"
      ]
    },
    {
      "cell_type": "code",
      "execution_count": null,
      "id": "4d9e3064",
      "metadata": {
        "id": "4d9e3064",
        "outputId": "6ed68a1b-4777-4382-bd19-df681a2eacdd"
      },
      "outputs": [
        {
          "name": "stdout",
          "output_type": "stream",
          "text": [
            "Faturamento: R$1,000.00\n"
          ]
        }
      ],
      "source": [
        "print(f\"Faturamento: R${faturamento:,.2f}\")"
      ]
    },
    {
      "cell_type": "markdown",
      "id": "8938d986",
      "metadata": {
        "id": "8938d986"
      },
      "source": [
        "##### Número fixo de dígitos"
      ]
    },
    {
      "cell_type": "code",
      "execution_count": null,
      "id": "d2a85ecd",
      "metadata": {
        "id": "d2a85ecd",
        "outputId": "85251be5-6abc-45e8-ba20-ba456e7fd9b5"
      },
      "outputs": [
        {
          "name": "stdout",
          "output_type": "stream",
          "text": [
            "CPF: 00011233344\n"
          ]
        }
      ],
      "source": [
        "cpf = 11233344\n",
        "print(f\"CPF: {cpf:011}\")"
      ]
    },
    {
      "cell_type": "markdown",
      "id": "65b0def8",
      "metadata": {
        "id": "65b0def8"
      },
      "source": [
        "##### Percentual"
      ]
    },
    {
      "cell_type": "code",
      "execution_count": null,
      "id": "691eb3ed",
      "metadata": {
        "id": "691eb3ed",
        "outputId": "06b2f4e0-8557-436b-8109-e3cffbde8215"
      },
      "outputs": [
        {
          "name": "stdout",
          "output_type": "stream",
          "text": [
            "Margem: 27.0%\n"
          ]
        }
      ],
      "source": [
        "margem_lucro = 0.27\n",
        "\n",
        "print(f\"Margem: {margem_lucro:.1%}\")"
      ]
    },
    {
      "cell_type": "markdown",
      "id": "f466bf1f",
      "metadata": {
        "id": "f466bf1f"
      },
      "source": [
        "##### Datas"
      ]
    },
    {
      "cell_type": "code",
      "execution_count": null,
      "id": "2b4473ee",
      "metadata": {
        "id": "2b4473ee",
        "outputId": "1a4e3b89-7778-430d-f59d-f4159c2529b6"
      },
      "outputs": [
        {
          "name": "stdout",
          "output_type": "stream",
          "text": [
            "Data: 14/09/2022, Horário: 12:00\n"
          ]
        }
      ],
      "source": [
        "from datetime import datetime \n",
        "\n",
        "hoje = datetime.now()\n",
        "print(f\"Data: {hoje:%d/%m/%Y}, Horário: {hoje:%H:%M}\")"
      ]
    },
    {
      "cell_type": "markdown",
      "id": "565a0b3d",
      "metadata": {
        "id": "565a0b3d"
      },
      "source": [
        "##### Só cuidado com textos com chaves {}"
      ]
    },
    {
      "cell_type": "code",
      "execution_count": null,
      "id": "f06e5804",
      "metadata": {
        "id": "f06e5804",
        "outputId": "24a9f31d-1978-42f8-de1d-f4d377c8b0bb"
      },
      "outputs": [
        {
          "name": "stdout",
          "output_type": "stream",
          "text": [
            "{Produto: iphone}\n"
          ]
        }
      ],
      "source": [
        "produto = 'iphone'\n",
        "print(f\"{{Produto: {produto}}}\")"
      ]
    },
    {
      "cell_type": "markdown",
      "id": "da8dc10f",
      "metadata": {
        "id": "da8dc10f"
      },
      "source": [
        "##### Corpo do E-mail"
      ]
    },
    {
      "cell_type": "code",
      "execution_count": null,
      "id": "8e9d1028",
      "metadata": {
        "id": "8e9d1028",
        "outputId": "0f63acb2-b429-41f3-bb4e-220b8c48b945"
      },
      "outputs": [
        {
          "name": "stdout",
          "output_type": "stream",
          "text": [
            "Bom dia, diretoria\n",
            "\n",
            "Faturamento: R$1,000.00\n",
            "Margem de Lucro: 27.0%\n",
            "Data de hoje: 14/09/2022\n",
            "\n"
          ]
        }
      ],
      "source": [
        "texto = f\"\"\"Bom dia, diretoria\n",
        "\n",
        "Faturamento: R${faturamento:,.2f}\n",
        "Margem de Lucro: {margem_lucro:.1%}\n",
        "Data de hoje: {hoje:%d/%m/%Y}\n",
        "\"\"\"\n",
        "print(texto)"
      ]
    },
    {
      "cell_type": "code",
      "execution_count": null,
      "id": "179311d3",
      "metadata": {
        "id": "179311d3"
      },
      "outputs": [],
      "source": []
    }
  ],
  "metadata": {
    "kernelspec": {
      "display_name": "Python 3 (ipykernel)",
      "language": "python",
      "name": "python3"
    },
    "language_info": {
      "codemirror_mode": {
        "name": "ipython",
        "version": 3
      },
      "file_extension": ".py",
      "mimetype": "text/x-python",
      "name": "python",
      "nbconvert_exporter": "python",
      "pygments_lexer": "ipython3",
      "version": "3.9.7"
    },
    "colab": {
      "provenance": [],
      "include_colab_link": true
    }
  },
  "nbformat": 4,
  "nbformat_minor": 5
}
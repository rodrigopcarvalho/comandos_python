{
  "nbformat": 4,
  "nbformat_minor": 0,
  "metadata": {
    "colab": {
      "provenance": [],
      "authorship_tag": "ABX9TyPzjiavBySSgzZbICzEmE0A",
      "include_colab_link": true
    },
    "kernelspec": {
      "name": "python3",
      "display_name": "Python 3"
    },
    "language_info": {
      "name": "python"
    }
  },
  "cells": [
    {
      "cell_type": "markdown",
      "metadata": {
        "id": "view-in-github",
        "colab_type": "text"
      },
      "source": [
        "<a href=\"https://colab.research.google.com/github/rodrigopcarvalho/comandos_python/blob/main/estruturas_condicionais__python.ipynb\" target=\"_parent\"><img src=\"https://colab.research.google.com/assets/colab-badge.svg\" alt=\"Open In Colab\"/></a>"
      ]
    },
    {
      "cell_type": "code",
      "execution_count": 1,
      "metadata": {
        "colab": {
          "base_uri": "https://localhost:8080/"
        },
        "id": "PD86N_-Yvi-d",
        "outputId": "1a8d1a7e-5a21-4e07-b445-4ced3b64128e"
      },
      "outputs": [
        {
          "output_type": "stream",
          "name": "stdout",
          "text": [
            "Você é maior de idade\n"
          ]
        }
      ],
      "source": [
        "# Estruturas Condicionais \n",
        "\n",
        "# if (se)\n",
        "# elif (senão, então)\n",
        "# else (senão)\n",
        "\n",
        "idade = 18\n",
        "\n",
        "if idade >= 18:\n",
        "    print('Você é maior de idade')"
      ]
    },
    {
      "cell_type": "code",
      "source": [
        "idade = 17\n",
        "\n",
        "if idade >= 18:\n",
        "    print('Você é maior de idade')\n",
        "else:\n",
        "    print('Você é menor de idade')"
      ],
      "metadata": {
        "colab": {
          "base_uri": "https://localhost:8080/"
        },
        "id": "cRJPwFXewiNu",
        "outputId": "f21f4033-a191-4180-a4f9-ff14c04ff884"
      },
      "execution_count": 9,
      "outputs": [
        {
          "output_type": "stream",
          "name": "stdout",
          "text": [
            "Você é menor de idade\n"
          ]
        }
      ]
    },
    {
      "cell_type": "code",
      "source": [
        "idade = 13\n",
        "\n",
        "if idade >= 18:\n",
        "    print('Você é maior de idade')\n",
        "elif idade == 14:\n",
        "    print('Você é adolescente')\n",
        "else:\n",
        "    print('Você é criança')"
      ],
      "metadata": {
        "colab": {
          "base_uri": "https://localhost:8080/"
        },
        "id": "C3J7IBowxrsK",
        "outputId": "e07878ec-6250-49f6-8b9e-a38c0280d5d9"
      },
      "execution_count": 13,
      "outputs": [
        {
          "output_type": "stream",
          "name": "stdout",
          "text": [
            "Você é criança\n"
          ]
        }
      ]
    },
    {
      "cell_type": "code",
      "source": [
        "idade = 57\n",
        "if idade < 12:\n",
        "    print('crianca')\n",
        "elif idade < 18:\n",
        "    print('adolescente')\n",
        "elif idade < 60:\n",
        "    print('adulto')\n",
        "else:\n",
        "    print('idoso')"
      ],
      "metadata": {
        "colab": {
          "base_uri": "https://localhost:8080/"
        },
        "id": "zhaMVHXByZ3R",
        "outputId": "67d3b18f-5771-40bc-be59-4bfa0f9248ec"
      },
      "execution_count": 14,
      "outputs": [
        {
          "output_type": "stream",
          "name": "stdout",
          "text": [
            "adulto\n"
          ]
        }
      ]
    }
  ]
}
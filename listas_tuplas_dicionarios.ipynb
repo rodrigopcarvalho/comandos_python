{
  "cells": [
    {
      "cell_type": "markdown",
      "metadata": {
        "id": "view-in-github",
        "colab_type": "text"
      },
      "source": [
        "<a href=\"https://colab.research.google.com/github/rodrigopcarvalho/comandos_python/blob/main/listas_tuplas_dicionarios.ipynb\" target=\"_parent\"><img src=\"https://colab.research.google.com/assets/colab-badge.svg\" alt=\"Open In Colab\"/></a>"
      ]
    },
    {
      "cell_type": "markdown",
      "source": [
        "# Listas [ ] - São Estruturas Mutáveis. "
      ],
      "metadata": {
        "id": "HwPrMcSVVy4K"
      }
    },
    {
      "cell_type": "code",
      "source": [
        "# Criando uma Lista. As listas usam os Colchetes [ ].\n",
        "\n",
        "animais = [1,2,3]\n",
        "animais"
      ],
      "metadata": {
        "id": "W6ciOEF7WBlf",
        "colab": {
          "base_uri": "https://localhost:8080/"
        },
        "outputId": "1c238853-c0b2-484e-df4a-9ffcaf2eaa83"
      },
      "execution_count": 1,
      "outputs": [
        {
          "output_type": "execute_result",
          "data": {
            "text/plain": [
              "[1, 2, 3]"
            ]
          },
          "metadata": {},
          "execution_count": 1
        }
      ]
    },
    {
      "cell_type": "code",
      "source": [
        "animais = [ 'cachorro', 'gato', 12345, 6.5]\n",
        "animais"
      ],
      "metadata": {
        "colab": {
          "base_uri": "https://localhost:8080/"
        },
        "id": "0KtGXSarvEDH",
        "outputId": "34e1a986-ee92-4760-d739-9b5b90610429"
      },
      "execution_count": 3,
      "outputs": [
        {
          "output_type": "execute_result",
          "data": {
            "text/plain": [
              "['cachorro', 'gato', 12345, 6.5]"
            ]
          },
          "metadata": {},
          "execution_count": 3
        }
      ]
    },
    {
      "cell_type": "code",
      "source": [
        "# Buscando o elemento por Indexação.\n",
        "animais[0]"
      ],
      "metadata": {
        "colab": {
          "base_uri": "https://localhost:8080/",
          "height": 35
        },
        "id": "fWruP8oBvPKv",
        "outputId": "e64387bd-e5b7-463d-ff3c-163a9418e3b2"
      },
      "execution_count": 4,
      "outputs": [
        {
          "output_type": "execute_result",
          "data": {
            "text/plain": [
              "'cachorro'"
            ],
            "application/vnd.google.colaboratory.intrinsic+json": {
              "type": "string"
            }
          },
          "metadata": {},
          "execution_count": 4
        }
      ]
    },
    {
      "cell_type": "code",
      "source": [
        "animais[3]"
      ],
      "metadata": {
        "colab": {
          "base_uri": "https://localhost:8080/"
        },
        "id": "KWjRhD8BvU9E",
        "outputId": "9d84c830-d62f-4d2f-9898-ef7d17c09c09"
      },
      "execution_count": 5,
      "outputs": [
        {
          "output_type": "execute_result",
          "data": {
            "text/plain": [
              "6.5"
            ]
          },
          "metadata": {},
          "execution_count": 5
        }
      ]
    },
    {
      "cell_type": "code",
      "source": [
        "# Substituindo o 1º elemento da Lista\n",
        "\n",
        "animais[0] = 'papagaio'\n",
        "animais"
      ],
      "metadata": {
        "colab": {
          "base_uri": "https://localhost:8080/"
        },
        "id": "MwUiTxKdvbyJ",
        "outputId": "42676f64-414d-46ad-fd1d-babd2d03a58c"
      },
      "execution_count": 6,
      "outputs": [
        {
          "output_type": "execute_result",
          "data": {
            "text/plain": [
              "['papagaio', 'gato', 12345, 6.5]"
            ]
          },
          "metadata": {},
          "execution_count": 6
        }
      ]
    },
    {
      "cell_type": "code",
      "source": [
        "# Removendo um item da lista.\n",
        "\n",
        "animais.remove('gato')\n",
        "animais"
      ],
      "metadata": {
        "colab": {
          "base_uri": "https://localhost:8080/"
        },
        "id": "meqgyCmMvwrk",
        "outputId": "b2acee9d-5f62-4923-c074-8d21807ad8a5"
      },
      "execution_count": 7,
      "outputs": [
        {
          "output_type": "execute_result",
          "data": {
            "text/plain": [
              "['papagaio', 12345, 6.5]"
            ]
          },
          "metadata": {},
          "execution_count": 7
        }
      ]
    },
    {
      "cell_type": "code",
      "source": [
        "# descobrir o tamanho da lista.\n",
        "\n",
        "len(animais)"
      ],
      "metadata": {
        "colab": {
          "base_uri": "https://localhost:8080/"
        },
        "id": "tPdX52IcwI4x",
        "outputId": "5684b0e8-7b57-475f-e4a9-c3b55cb89fc2"
      },
      "execution_count": 8,
      "outputs": [
        {
          "output_type": "execute_result",
          "data": {
            "text/plain": [
              "3"
            ]
          },
          "metadata": {},
          "execution_count": 8
        }
      ]
    },
    {
      "cell_type": "code",
      "source": [
        "# Descobrir se um elemento pertence a lista.\n",
        "\n",
        "'papagaio' in animais"
      ],
      "metadata": {
        "colab": {
          "base_uri": "https://localhost:8080/"
        },
        "id": "9x8izE2fwQ5s",
        "outputId": "2a5a877f-73dd-4d00-978e-1e0dc7636531"
      },
      "execution_count": 9,
      "outputs": [
        {
          "output_type": "execute_result",
          "data": {
            "text/plain": [
              "True"
            ]
          },
          "metadata": {},
          "execution_count": 9
        }
      ]
    },
    {
      "cell_type": "code",
      "source": [
        "lista = [500, 400, 300, 200, 100]\n",
        "lista"
      ],
      "metadata": {
        "colab": {
          "base_uri": "https://localhost:8080/"
        },
        "id": "4dl76gMAwkbO",
        "outputId": "994afed1-22ee-4759-926c-5bf7a0c57b6e"
      },
      "execution_count": 10,
      "outputs": [
        {
          "output_type": "execute_result",
          "data": {
            "text/plain": [
              "[500, 400, 300, 200, 100]"
            ]
          },
          "metadata": {},
          "execution_count": 10
        }
      ]
    },
    {
      "cell_type": "code",
      "source": [
        "# Descobrindo o maior elemento da lista.\n",
        "\n",
        "max(lista)"
      ],
      "metadata": {
        "colab": {
          "base_uri": "https://localhost:8080/"
        },
        "id": "i2zElpB0wuwp",
        "outputId": "e37fcd40-1877-49f6-f0c4-369c27a8b904"
      },
      "execution_count": 11,
      "outputs": [
        {
          "output_type": "execute_result",
          "data": {
            "text/plain": [
              "500"
            ]
          },
          "metadata": {},
          "execution_count": 11
        }
      ]
    },
    {
      "cell_type": "code",
      "source": [
        "# Descobrindo o menor elemento da lista.\n",
        "\n",
        "min(lista)"
      ],
      "metadata": {
        "colab": {
          "base_uri": "https://localhost:8080/"
        },
        "id": "BBh3CoHhw8zA",
        "outputId": "162ba462-4241-42d7-caef-1e9f42c51086"
      },
      "execution_count": 12,
      "outputs": [
        {
          "output_type": "execute_result",
          "data": {
            "text/plain": [
              "100"
            ]
          },
          "metadata": {},
          "execution_count": 12
        }
      ]
    },
    {
      "cell_type": "code",
      "source": [
        "# Adicionar um elemento a lista.\n",
        "\n",
        "animais.append('leão')\n",
        "animais"
      ],
      "metadata": {
        "colab": {
          "base_uri": "https://localhost:8080/"
        },
        "id": "xgWaikWSxEKd",
        "outputId": "71cf156e-a796-4407-ed9b-bc9d8b3fb9b4"
      },
      "execution_count": 13,
      "outputs": [
        {
          "output_type": "execute_result",
          "data": {
            "text/plain": [
              "['papagaio', 12345, 6.5, 'leão']"
            ]
          },
          "metadata": {},
          "execution_count": 13
        }
      ]
    },
    {
      "cell_type": "code",
      "source": [
        "# Adicionando mais de um elemento a lista.\n",
        "\n",
        "animais.extend(['cobra', 'avestruz'])\n",
        "animais"
      ],
      "metadata": {
        "colab": {
          "base_uri": "https://localhost:8080/"
        },
        "id": "YoDFiM0gxQN9",
        "outputId": "16fd67b3-007b-4762-c86b-661306eb694c"
      },
      "execution_count": 15,
      "outputs": [
        {
          "output_type": "execute_result",
          "data": {
            "text/plain": [
              "['papagaio', 12345, 6.5, 'leão', 'cobra', 'avestruz']"
            ]
          },
          "metadata": {},
          "execution_count": 15
        }
      ]
    },
    {
      "cell_type": "code",
      "source": [
        "# Quantas vezes aparece um elemento na lista.\n",
        "\n",
        "animais.count('papagaio')"
      ],
      "metadata": {
        "colab": {
          "base_uri": "https://localhost:8080/"
        },
        "id": "B3ynQCPwxgCb",
        "outputId": "ff33343b-cdfb-4cb7-afec-70057980d1a9"
      },
      "execution_count": 19,
      "outputs": [
        {
          "output_type": "execute_result",
          "data": {
            "text/plain": [
              "1"
            ]
          },
          "metadata": {},
          "execution_count": 19
        }
      ]
    },
    {
      "cell_type": "code",
      "source": [
        "# Ordenando a lista do menor para o maior.\n",
        "\n",
        "lista.sort()\n",
        "lista"
      ],
      "metadata": {
        "colab": {
          "base_uri": "https://localhost:8080/"
        },
        "id": "qOfAZxIiyKoH",
        "outputId": "b299b417-eb66-4d62-c7d3-c9cc919b0a8a"
      },
      "execution_count": 20,
      "outputs": [
        {
          "output_type": "execute_result",
          "data": {
            "text/plain": [
              "[100, 200, 300, 400, 500]"
            ]
          },
          "metadata": {},
          "execution_count": 20
        }
      ]
    },
    {
      "cell_type": "code",
      "source": [
        "# Invertendo a ordem da lista.\n",
        "lista[::-1]"
      ],
      "metadata": {
        "colab": {
          "base_uri": "https://localhost:8080/"
        },
        "id": "E_1f5bLi0xkp",
        "outputId": "46b3b823-ca54-4b93-ad31-667a057165ab"
      },
      "execution_count": 27,
      "outputs": [
        {
          "output_type": "execute_result",
          "data": {
            "text/plain": [
              "[500, 400, 300, 200, 100]"
            ]
          },
          "metadata": {},
          "execution_count": 27
        }
      ]
    },
    {
      "cell_type": "markdown",
      "source": [
        "# Tuplas ( ) - São estruturas Imutáveis."
      ],
      "metadata": {
        "id": "V7WXGTnIy3xS"
      }
    },
    {
      "cell_type": "code",
      "source": [
        "# Criando uma Tupla. as Tuplas usam os Parenteses ( )\n",
        "\n",
        "tp = ('banana', 'maçã', 10, 50)\n",
        "tp"
      ],
      "metadata": {
        "colab": {
          "base_uri": "https://localhost:8080/"
        },
        "id": "66gK8v-Ay0L-",
        "outputId": "6e92be4f-cb49-487b-c2c6-aa1433169e07"
      },
      "execution_count": 21,
      "outputs": [
        {
          "output_type": "execute_result",
          "data": {
            "text/plain": [
              "('banana', 'maçã', 10, 50)"
            ]
          },
          "metadata": {},
          "execution_count": 21
        }
      ]
    },
    {
      "cell_type": "code",
      "source": [
        "# Busca por Indexação.\n",
        "\n",
        "tp[0]"
      ],
      "metadata": {
        "colab": {
          "base_uri": "https://localhost:8080/",
          "height": 35
        },
        "id": "0d0FRBYszhWt",
        "outputId": "f0c72c13-2852-40b1-b9ce-755ebd2c9203"
      },
      "execution_count": 22,
      "outputs": [
        {
          "output_type": "execute_result",
          "data": {
            "text/plain": [
              "'banana'"
            ],
            "application/vnd.google.colaboratory.intrinsic+json": {
              "type": "string"
            }
          },
          "metadata": {},
          "execution_count": 22
        }
      ]
    },
    {
      "cell_type": "code",
      "source": [
        "# Quantas vezes o elemento aparece na tupla.\n",
        "tp.count('maça')"
      ],
      "metadata": {
        "colab": {
          "base_uri": "https://localhost:8080/"
        },
        "id": "7rLaUfMEz1pk",
        "outputId": "f8f07d24-351c-472c-fdde-eccd53893cc1"
      },
      "execution_count": 24,
      "outputs": [
        {
          "output_type": "execute_result",
          "data": {
            "text/plain": [
              "0"
            ]
          },
          "metadata": {},
          "execution_count": 24
        }
      ]
    },
    {
      "cell_type": "code",
      "source": [
        "# Fazer busca de mais de um elemento.\n",
        "\n",
        "tp[0:2]"
      ],
      "metadata": {
        "colab": {
          "base_uri": "https://localhost:8080/"
        },
        "id": "Ht_a1Zy70NDG",
        "outputId": "4207447f-9420-4fc9-d82d-c36ca3930f2f"
      },
      "execution_count": 25,
      "outputs": [
        {
          "output_type": "execute_result",
          "data": {
            "text/plain": [
              "('banana', 'maçã')"
            ]
          },
          "metadata": {},
          "execution_count": 25
        }
      ]
    },
    {
      "cell_type": "code",
      "source": [
        "# Invertendo a ordem da Tupla.\n",
        "\n",
        "tp[::-1]"
      ],
      "metadata": {
        "colab": {
          "base_uri": "https://localhost:8080/"
        },
        "id": "sgV6OTPp0oL2",
        "outputId": "46c26b4c-1cc3-471d-fdc4-0700829950b8"
      },
      "execution_count": 26,
      "outputs": [
        {
          "output_type": "execute_result",
          "data": {
            "text/plain": [
              "(50, 10, 'maçã', 'banana')"
            ]
          },
          "metadata": {},
          "execution_count": 26
        }
      ]
    },
    {
      "cell_type": "markdown",
      "source": [
        "# Dicionários { } -  São estruturas mutáveis."
      ],
      "metadata": {
        "id": "dgNPuOHa0_F7"
      }
    },
    {
      "cell_type": "code",
      "source": [
        "# Criando um Dicionário. Os dicionários usam as Chaves { }.\n",
        "# Dicionários trabalham com o conceito de Chaves e Valor.\n",
        "\n",
        "dc = {'maça':10, 'banana':20, 'laranja':30, 'uva':40}\n",
        "dc"
      ],
      "metadata": {
        "colab": {
          "base_uri": "https://localhost:8080/"
        },
        "id": "ErSA1hIF1G8T",
        "outputId": "254fdf1f-6c82-4301-b350-80cf67680b31"
      },
      "execution_count": 28,
      "outputs": [
        {
          "output_type": "execute_result",
          "data": {
            "text/plain": [
              "{'maça': 10, 'banana': 20, 'laranja': 30, 'uva': 40}"
            ]
          },
          "metadata": {},
          "execution_count": 28
        }
      ]
    },
    {
      "cell_type": "code",
      "source": [
        "# Acessando um valor através das chaves.\n",
        "\n",
        "dc['maça']"
      ],
      "metadata": {
        "colab": {
          "base_uri": "https://localhost:8080/"
        },
        "id": "od9M6hrv2XOP",
        "outputId": "5a591330-5463-49d9-bcf9-36d13c7621c5"
      },
      "execution_count": 29,
      "outputs": [
        {
          "output_type": "execute_result",
          "data": {
            "text/plain": [
              "10"
            ]
          },
          "metadata": {},
          "execution_count": 29
        }
      ]
    },
    {
      "cell_type": "code",
      "source": [
        "# Atualizando um valor de uma Chave.\n",
        "\n",
        "dc['maça'] = 15\n",
        "dc"
      ],
      "metadata": {
        "colab": {
          "base_uri": "https://localhost:8080/"
        },
        "id": "62Zr9y4h2g6r",
        "outputId": "c3ca3f87-2993-43fa-8efb-622922a7680d"
      },
      "execution_count": 30,
      "outputs": [
        {
          "output_type": "execute_result",
          "data": {
            "text/plain": [
              "{'maça': 15, 'banana': 20, 'laranja': 30, 'uva': 40}"
            ]
          },
          "metadata": {},
          "execution_count": 30
        }
      ]
    },
    {
      "cell_type": "code",
      "source": [
        "# Retornando todas as Chaves.\n",
        "\n",
        "dc.keys()"
      ],
      "metadata": {
        "colab": {
          "base_uri": "https://localhost:8080/"
        },
        "id": "GnW4MZK42u6p",
        "outputId": "0279d5b7-ac5d-4120-e880-0cf5426c0664"
      },
      "execution_count": 31,
      "outputs": [
        {
          "output_type": "execute_result",
          "data": {
            "text/plain": [
              "dict_keys(['maça', 'banana', 'laranja', 'uva'])"
            ]
          },
          "metadata": {},
          "execution_count": 31
        }
      ]
    },
    {
      "cell_type": "code",
      "source": [
        "# Retornando todos os valores.\n",
        "\n",
        "dc.values()"
      ],
      "metadata": {
        "colab": {
          "base_uri": "https://localhost:8080/"
        },
        "id": "U5Vt1CHU29mh",
        "outputId": "42ecf1eb-f617-4f04-cc36-900845cafd15"
      },
      "execution_count": 32,
      "outputs": [
        {
          "output_type": "execute_result",
          "data": {
            "text/plain": [
              "dict_values([15, 20, 30, 40])"
            ]
          },
          "metadata": {},
          "execution_count": 32
        }
      ]
    },
    {
      "cell_type": "code",
      "source": [
        "# Verificando se já existe uma chave, caso não exista acrescenta-la.\n",
        "\n",
        "dc.setdefault('limão',100)\n",
        "dc"
      ],
      "metadata": {
        "colab": {
          "base_uri": "https://localhost:8080/"
        },
        "id": "zjIzbWbc3HzC",
        "outputId": "2933488f-9ab5-4a38-d490-52a90ef91d16"
      },
      "execution_count": 38,
      "outputs": [
        {
          "output_type": "execute_result",
          "data": {
            "text/plain": [
              "{'maça': 15, 'banana': 20, 'laranja': 30, 'uva': 40, 'limão': 100}"
            ]
          },
          "metadata": {},
          "execution_count": 38
        }
      ]
    }
  ],
  "metadata": {
    "colab": {
      "provenance": [],
      "authorship_tag": "ABX9TyMWZtVb/6DpGUgJFDoHvVg9",
      "include_colab_link": true
    },
    "kernelspec": {
      "display_name": "Python 3",
      "name": "python3"
    },
    "language_info": {
      "name": "python"
    }
  },
  "nbformat": 4,
  "nbformat_minor": 0
}
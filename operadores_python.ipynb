{
  "nbformat": 4,
  "nbformat_minor": 0,
  "metadata": {
    "colab": {
      "provenance": [],
      "authorship_tag": "ABX9TyM8LKrohYRXP1QcomZPXcFe",
      "include_colab_link": true
    },
    "kernelspec": {
      "name": "python3",
      "display_name": "Python 3"
    },
    "language_info": {
      "name": "python"
    }
  },
  "cells": [
    {
      "cell_type": "markdown",
      "metadata": {
        "id": "view-in-github",
        "colab_type": "text"
      },
      "source": [
        "<a href=\"https://colab.research.google.com/github/rodrigopcarvalho/comando_python/blob/main/operadores_python.ipynb\" target=\"_parent\"><img src=\"https://colab.research.google.com/assets/colab-badge.svg\" alt=\"Open In Colab\"/></a>"
      ]
    },
    {
      "cell_type": "code",
      "execution_count": null,
      "metadata": {
        "colab": {
          "base_uri": "https://localhost:8080/"
        },
        "id": "wbx_umJP-SAo",
        "outputId": "2b381eab-b564-47cd-f537-f5f63d647202"
      },
      "outputs": [
        {
          "output_type": "stream",
          "name": "stdout",
          "text": [
            "15\n",
            "5\n",
            "50\n",
            "2.0\n",
            "2\n",
            "0\n",
            "100000\n"
          ]
        }
      ],
      "source": [
        "# Operadores Aritméticos (Os operadores aritméticos são utilizados na execução de operações\n",
        "# matematicas.)\n",
        "\n",
        "# + (soma)\n",
        "# - (subtração)\n",
        "# * (multiplicação)\n",
        "# / (divisão)\n",
        "# //(divisão inteira)\n",
        "# % (modulo - resto da divisão)\n",
        "# **(exponenciação)\n",
        "\n",
        "saldo1 = 10\n",
        "saldo2 = 5\n",
        "\n",
        "print(saldo1 + saldo2)\n",
        "print(saldo1 - saldo2)\n",
        "print(saldo1 * saldo2)\n",
        "print(saldo1 / saldo2)\n",
        "print(saldo1 // saldo2)\n",
        "print(saldo1 % saldo2)\n",
        "print(saldo1 ** saldo2)"
      ]
    },
    {
      "cell_type": "code",
      "source": [
        "# Operadores de Atribuição (Os operadores de atribuição atribuem valores a uma variavel.)\n",
        "\n",
        "# =\n",
        "# +=\n",
        "# -=\n",
        "# *=\n",
        "# /=\n",
        "# %=\n",
        "\n",
        "x = 1\n",
        "print(x)\n",
        "\n",
        "x += 1\n",
        "print(x)\n",
        "\n",
        "x -= 1\n",
        "print(x)\n",
        "\n",
        "x *= 2\n",
        "print(x)\n",
        "\n",
        "x /= 1\n",
        "print(x)\n",
        "\n",
        "x %= 1\n",
        "print(x)"
      ],
      "metadata": {
        "colab": {
          "base_uri": "https://localhost:8080/"
        },
        "id": "8lgC3g0mACpU",
        "outputId": "b72419d6-5abe-4c31-8e85-397c7a7ae0ed"
      },
      "execution_count": null,
      "outputs": [
        {
          "output_type": "stream",
          "name": "stdout",
          "text": [
            "1\n",
            "2\n",
            "1\n",
            "2\n",
            "2.0\n",
            "0.0\n"
          ]
        }
      ]
    },
    {
      "cell_type": "code",
      "source": [
        "# Operadores de Comparação (Os operadores de comparação são usados para comparar valores\n",
        "# o que vai retornar True ou False.)\n",
        "\n",
        "# > (maior que)\n",
        "# < (menor que)\n",
        "# == (igual a)\n",
        "# != (diferente de)\n",
        "# >= (maior ou igual a)\n",
        "# <= (menor ou igual a)\n",
        "\n",
        "saldo = 500\n",
        "saque = 200\n",
        "\n",
        "print(saldo > saque)\n",
        "print(saldo < saque)\n",
        "print(saldo == saque)\n",
        "print(saldo != saque)\n",
        "print(saldo >= saque)\n",
        "print(saldo <= saque)"
      ],
      "metadata": {
        "colab": {
          "base_uri": "https://localhost:8080/"
        },
        "id": "I5QMU2K9BvGM",
        "outputId": "3f61af98-41c4-48a4-9d69-a2c29906fc69"
      },
      "execution_count": null,
      "outputs": [
        {
          "output_type": "stream",
          "name": "stdout",
          "text": [
            "True\n",
            "False\n",
            "False\n",
            "True\n",
            "True\n",
            "False\n"
          ]
        }
      ]
    },
    {
      "cell_type": "code",
      "source": [
        "# Operadores Lógicos (Os operadores lógicos são usados para unir duas ou mais expressões\n",
        "# condicionais. Isso é feito por meio de conectivos.)\n",
        "\n",
        "# and (e) (Retorna True se todas as condições forem verdadeiras, caso contrário retorna False)\n",
        "# or  (ou) (Retorna True se uma das condições for verdadeiras, caso contrário retorna False)\n",
        "# not (inverte o resultad: se o resultado for True, o operador retornara False)\n",
        "\n",
        "x = 4\n",
        "y = 6\n",
        "\n",
        "print(x < 3 and y == 6)\n",
        "print(x != 4 or y <= 6)\n",
        "print(not (x < 3 and y == 6))"
      ],
      "metadata": {
        "colab": {
          "base_uri": "https://localhost:8080/"
        },
        "id": "NgbTUoGuCbYK",
        "outputId": "d6877c0c-f3f0-41d1-e6a8-3a3148be9799"
      },
      "execution_count": null,
      "outputs": [
        {
          "output_type": "stream",
          "name": "stdout",
          "text": [
            "False\n",
            "True\n",
            "True\n"
          ]
        }
      ]
    },
    {
      "cell_type": "code",
      "source": [
        "# Operadores de Identidade (Os operadores de associação servem para a comparação de objetos. \n",
        "# Nessa comparação é verificado se eles ocupam a mesma posição na memoria.)\n",
        "\n",
        "# is (está) (Retorna True se as variáveis comparadas forem o mesmo objeto)\n",
        "# is not (não está) (Retorna True se as variáveis comparadas não forem o mesmo objeto)\n",
        "\n",
        "time_carlos = 'Botafogo'\n",
        "time_luciano = 'Flamengo'\n",
        "time_fabricia = 'Botafogo'\n",
        "\n",
        "\n",
        "# Exemplo 1 de Aplicação\n",
        "# print(time_carlos is time_luciano)\n",
        "\n",
        "# Exemplo 2 de Aplicação\n",
        "if time_carlos is time_luciano:\n",
        "    print(\"time_carlos - time_luciano = mesmo objeto\")\n",
        "else:\n",
        "    print(\"time_carlos - time_luciano = objetos diferentes\")\n",
        "\n",
        "if time_carlos is time_fabricia:\n",
        "    print(\"time_carlos - time_fabricia = mesmo objeto\")\n",
        "else:\n",
        "    print(\"time_carlos - time_fabricia = objetos diferentes\")\n",
        "\n",
        "if time_carlos is not time_luciano:\n",
        "    print(\"time_carlos - time_luciano = mesmo objeto\")\n",
        "else:\n",
        "    print(\"time_carlos - time_luciano = objetos diferentes\")\n",
        "\n",
        "if time_carlos is not time_fabricia:\n",
        "    print(\"time_carlos - time_fabricia = mesmo objeto\")\n",
        "else:\n",
        "    print(\"time_carlos - time_fabricia = objetos diferentes\")\n"
      ],
      "metadata": {
        "id": "H0I2JojNEnmO",
        "colab": {
          "base_uri": "https://localhost:8080/"
        },
        "outputId": "542f591b-c737-4ea5-dc84-49ed94501303"
      },
      "execution_count": null,
      "outputs": [
        {
          "output_type": "stream",
          "name": "stdout",
          "text": [
            "time_carlos - time_luciano = objetos diferentes\n",
            "time_carlos - time_fabricia = mesmo objeto\n",
            "time_carlos - time_luciano = mesmo objeto\n",
            "time_carlos - time_fabricia = objetos diferentes\n"
          ]
        }
      ]
    },
    {
      "cell_type": "code",
      "source": [
        "# Operadores de Associação(Os operadores de associação são utilizados\n",
        "#  para verificar se uma sequencia contem um objeto.)\n",
        "\n",
        "# in (está dentro) (Retorna True caso o valor seja encontrado na sequência)\n",
        "# not in (não está dentro) (Retorna True caso o valor não seja encontrado na sequência\t)\n",
        "\n",
        "frutas = ['banana', 'uva', 'melancia', 'abacaxi']\n",
        "\n",
        "fruta_1 = 'banana'\n",
        "fruta_2 = 'jaca'\n",
        "\n",
        "print(fruta_1 in frutas)\n",
        "print(fruta_2 in frutas)\n",
        "\n",
        "print(fruta_1 not in frutas)\n",
        "print(fruta_2 not in frutas)"
      ],
      "metadata": {
        "colab": {
          "base_uri": "https://localhost:8080/"
        },
        "id": "M7E3ylupEFYi",
        "outputId": "63209eda-fa89-4d61-f639-aab6f26af6ee"
      },
      "execution_count": null,
      "outputs": [
        {
          "output_type": "stream",
          "name": "stdout",
          "text": [
            "True\n",
            "False\n",
            "False\n",
            "True\n"
          ]
        }
      ]
    }
  ]
}
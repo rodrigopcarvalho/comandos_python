{
  "cells": [
    {
      "cell_type": "markdown",
      "metadata": {
        "id": "view-in-github",
        "colab_type": "text"
      },
      "source": [
        "<a href=\"https://colab.research.google.com/github/rodrigopcarvalho/comandos_python/blob/main/strings_e_fatiamento.ipynb\" target=\"_parent\"><img src=\"https://colab.research.google.com/assets/colab-badge.svg\" alt=\"Open In Colab\"/></a>"
      ]
    },
    {
      "cell_type": "markdown",
      "metadata": {
        "id": "eO3Eqw8ibNKl"
      },
      "source": [
        "# Métodos úteis "
      ]
    },
    {
      "cell_type": "code",
      "execution_count": null,
      "metadata": {
        "colab": {
          "base_uri": "https://localhost:8080/"
        },
        "id": "2h2QRhpNWXO-",
        "outputId": "b4704fd5-4023-44b7-d09b-e6ac00820bc6"
      },
      "outputs": [
        {
          "name": "stdout",
          "output_type": "stream",
          "text": [
            " PYTHON \n",
            " python \n",
            " Python \n",
            "pYtHon\n",
            "pYtHon \n",
            " pYtHon\n",
            "###### pYtHon ######\n",
            " .p.Y.t.H.o.n. \n"
          ]
        }
      ],
      "source": [
        "# .upper() deixa as letras todas maiusculas\n",
        "# .lower() deixa as letras todas minusculas\n",
        "# .title() deixa todas as letras minusculo, menos a 1º letra\n",
        "# .strip() remove os espações em branco/vazios da esquerda e da direita\n",
        "# .lstrip() remove os espações em branco/vazios da esquerda\n",
        "# .rstrip() remove os espações em branco/vazios da direita\n",
        "# .center() centraliza e acrescenta caracteres a esquerda e a direita\n",
        "# .join()  centraliza e acrescenta caracteres entre as letras\n",
        "\n",
        "\n",
        "curso = ' pYtHon '\n",
        "print(curso.upper())\n",
        "print(curso.lower())\n",
        "print(curso.title())\n",
        "print(curso.strip())\n",
        "print(curso.lstrip())\n",
        "print(curso.rstrip())\n",
        "print(curso.center(20, '#'))\n",
        "print('.'.join(curso))"
      ]
    },
    {
      "cell_type": "markdown",
      "metadata": {
        "id": "gzHKwCEibba4"
      },
      "source": [
        "# Interpolação de Variaveis"
      ]
    },
    {
      "cell_type": "markdown",
      "metadata": {
        "id": "fx5lgPQVmd1C"
      },
      "source": [
        "#### Utilizando OLD STYLE %"
      ]
    },
    {
      "cell_type": "code",
      "execution_count": null,
      "metadata": {
        "colab": {
          "base_uri": "https://localhost:8080/"
        },
        "id": "OmL9Ipckbjwr",
        "outputId": "184da20c-2cf3-48dd-8d94-7925b6eae3f0"
      },
      "outputs": [
        {
          "name": "stdout",
          "output_type": "stream",
          "text": [
            "Olá, me chamo Rodrigo, Eu tenho 33 anos de idade, trabalho como Programador, e estou matriculado no curso de Python.\n"
          ]
        }
      ],
      "source": [
        "# Utilizando OLD STYLE %\n",
        "# %s para string\n",
        "# %d para inteiros\n",
        "# %f para ponto flutuante\n",
        "\n",
        "nome = 'Rodrigo'\n",
        "idade = 33\n",
        "profissão = 'Programador'\n",
        "linguagem = 'Python'\n",
        "\n",
        "print('Olá, me chamo %s, Eu tenho %d anos de idade, trabalho como %s, e estou matriculado no curso de %s.' %(nome, idade, profissão, linguagem))"
      ]
    },
    {
      "cell_type": "markdown",
      "metadata": {
        "id": "tcTSFyvSmqji"
      },
      "source": [
        "#### Utilizando o Método FORMAT {}"
      ]
    },
    {
      "cell_type": "code",
      "execution_count": null,
      "metadata": {
        "colab": {
          "base_uri": "https://localhost:8080/"
        },
        "id": "FcNfbu7Qexqp",
        "outputId": "104a0897-3971-463d-9ac9-e7abdd8732a0"
      },
      "outputs": [
        {
          "name": "stdout",
          "output_type": "stream",
          "text": [
            "Olá, me chamo Rodrigo, Eu tenho 33 anos de idade, trabalho como Programador, e estou matriculado no curso de Python.\n"
          ]
        }
      ],
      "source": [
        "# Utilizando o Método FORMAT {}\n",
        "\n",
        "nome = 'Rodrigo'\n",
        "idade = 33\n",
        "profissão = 'Programador'\n",
        "linguagem = 'Python'\n",
        "\n",
        "print('Olá, me chamo {}, Eu tenho {} anos de idade, trabalho como {}, e estou matriculado no curso de {}.' .format(nome, idade, profissão, linguagem))"
      ]
    },
    {
      "cell_type": "code",
      "execution_count": null,
      "metadata": {
        "colab": {
          "base_uri": "https://localhost:8080/"
        },
        "id": "vbo4XSCNfysr",
        "outputId": "6f465aff-e5b7-4083-a58d-cde59a4f856c"
      },
      "outputs": [
        {
          "name": "stdout",
          "output_type": "stream",
          "text": [
            "Olá, me chamo Rodrigo, Eu tenho 33 anos de idade, trabalho como Programador, e estou matriculado no curso de Python.\n"
          ]
        }
      ],
      "source": [
        "print('Olá, me chamo {3}, Eu tenho {2} anos de idade, trabalho como {1}, e estou matriculado no curso de {0}.' .format(linguagem, profissão, idade, nome))"
      ]
    },
    {
      "cell_type": "code",
      "execution_count": null,
      "metadata": {
        "colab": {
          "base_uri": "https://localhost:8080/"
        },
        "id": "KHiqvOwEgqTA",
        "outputId": "e22446bd-2d4a-4664-fdc8-b68b7c052a81"
      },
      "outputs": [
        {
          "name": "stdout",
          "output_type": "stream",
          "text": [
            "Olá, me chamo Rodrigo, Eu tenho 33 anos de idade, trabalho como Programador, e estou matriculado no curso de Python.\n"
          ]
        }
      ],
      "source": [
        "print('Olá, me chamo {nome}, Eu tenho {idade} anos de idade, trabalho como {profissão}, e estou matriculado no curso de {linguagem}.' .format(nome = nome, idade =  idade, profissão =  profissão, linguagem = linguagem))"
      ]
    },
    {
      "cell_type": "code",
      "execution_count": null,
      "metadata": {
        "colab": {
          "base_uri": "https://localhost:8080/"
        },
        "id": "du8PBYRpiHt7",
        "outputId": "45b34be9-29f0-4917-d3fe-d44a52f48557"
      },
      "outputs": [
        {
          "name": "stdout",
          "output_type": "stream",
          "text": [
            "Olá, me chamo Rodrigo, Eu tenho 33 anos de idade, trabalho como Programador, e estou matriculado no curso de Python.\n"
          ]
        }
      ],
      "source": [
        "pessoa = {'nome': 'Rodrigo', 'idade': 33, 'profissão': 'Programador', 'linguagem': 'Python'}\n",
        "\n",
        "print('Olá, me chamo {nome}, Eu tenho {idade} anos de idade, trabalho como {profissão}, e estou matriculado no curso de {linguagem}.' .format(**pessoa))"
      ]
    },
    {
      "cell_type": "markdown",
      "metadata": {
        "id": "cIdMOprlmu7Y"
      },
      "source": [
        "#### Utlizando f - strinf "
      ]
    },
    {
      "cell_type": "code",
      "execution_count": null,
      "metadata": {
        "colab": {
          "base_uri": "https://localhost:8080/"
        },
        "id": "ONwqZe2_i06t",
        "outputId": "b778f44e-938c-469b-ad1d-3b8dd5b6f8d7"
      },
      "outputs": [
        {
          "name": "stdout",
          "output_type": "stream",
          "text": [
            "Olá, me chamo Rodrigo, Eu tenho 33 anos de idade, trabalho como Programador, e estou matriculado no curso de Python.\n"
          ]
        }
      ],
      "source": [
        "# Utlizando f - strinf \n",
        "\n",
        "# f\n",
        "\n",
        "nome = 'Rodrigo'\n",
        "idade = 33\n",
        "profissão = 'Programador'\n",
        "linguagem = 'Python'\n",
        "\n",
        "print(f'Olá, me chamo {nome}, Eu tenho {idade} anos de idade, trabalho como {profissão}, e estou matriculado no curso de {linguagem}.')"
      ]
    },
    {
      "cell_type": "code",
      "execution_count": null,
      "metadata": {
        "colab": {
          "base_uri": "https://localhost:8080/"
        },
        "id": "-9eKxxUcjxPx",
        "outputId": "3b9e80de-134a-4907-8fe4-e2dfe552cf62"
      },
      "outputs": [
        {
          "name": "stdout",
          "output_type": "stream",
          "text": [
            "Valor de PI é:  3.14\n"
          ]
        }
      ],
      "source": [
        "# Formatando Utilizando f-string\n",
        "\n",
        "PI = 3.14159\n",
        "\n",
        "print(f'Valor de PI é: {PI: .2f}')"
      ]
    },
    {
      "cell_type": "code",
      "execution_count": null,
      "metadata": {
        "colab": {
          "base_uri": "https://localhost:8080/"
        },
        "id": "aZB6Ug25kyiT",
        "outputId": "65a3b3d3-1387-4e28-8366-fb19c3e5aeed"
      },
      "outputs": [
        {
          "name": "stdout",
          "output_type": "stream",
          "text": [
            "Valor de PI é:       3.14\n"
          ]
        }
      ],
      "source": [
        "print(f'Valor de PI é: {PI:10.2f}')"
      ]
    },
    {
      "cell_type": "markdown",
      "metadata": {
        "id": "3nPs5c2rm7LN"
      },
      "source": [
        "# Fatiamento de String"
      ]
    },
    {
      "cell_type": "code",
      "execution_count": null,
      "metadata": {
        "colab": {
          "base_uri": "https://localhost:8080/",
          "height": 35
        },
        "id": "_6bBluw0m-wz",
        "outputId": "1b787d2d-d8c7-4681-eeb4-95f9280d21c1"
      },
      "outputs": [
        {
          "data": {
            "application/vnd.google.colaboratory.intrinsic+json": {
              "type": "string"
            },
            "text/plain": [
              "'R'"
            ]
          },
          "execution_count": 41,
          "metadata": {},
          "output_type": "execute_result"
        }
      ],
      "source": [
        "# Fatiamento de String\n",
        "# [start : stop[, step]] (informamos o inicio, o fim e o passo).\n",
        "\n",
        "nome = 'Rodrigo Pereira de Carvalho'\n",
        "\n",
        "nome[0]"
      ]
    },
    {
      "cell_type": "code",
      "execution_count": null,
      "metadata": {
        "colab": {
          "base_uri": "https://localhost:8080/",
          "height": 35
        },
        "id": "BC4NLGYpofvg",
        "outputId": "7fc527ca-40cc-45c5-a6ed-217e51b12f51"
      },
      "outputs": [
        {
          "data": {
            "application/vnd.google.colaboratory.intrinsic+json": {
              "type": "string"
            },
            "text/plain": [
              "'Rodrigo'"
            ]
          },
          "execution_count": 45,
          "metadata": {},
          "output_type": "execute_result"
        }
      ],
      "source": [
        "# Colocando : concidera desdo inicio\n",
        "nome[:7]"
      ]
    },
    {
      "cell_type": "code",
      "execution_count": null,
      "metadata": {
        "colab": {
          "base_uri": "https://localhost:8080/",
          "height": 35
        },
        "id": "jtaEvCRTokXQ",
        "outputId": "9732f573-129a-4eaf-9623-986312242cc1"
      },
      "outputs": [
        {
          "data": {
            "application/vnd.google.colaboratory.intrinsic+json": {
              "type": "string"
            },
            "text/plain": [
              "'reira de Carvalho'"
            ]
          },
          "execution_count": 46,
          "metadata": {},
          "output_type": "execute_result"
        }
      ],
      "source": [
        "# Colocando o : depois vai conciderar até o final\n",
        "nome[10:]"
      ]
    },
    {
      "cell_type": "code",
      "execution_count": null,
      "metadata": {
        "colab": {
          "base_uri": "https://localhost:8080/",
          "height": 35
        },
        "id": "8EI58gc0o58h",
        "outputId": "116d31eb-a555-48ce-888c-d14047705b0a"
      },
      "outputs": [
        {
          "data": {
            "application/vnd.google.colaboratory.intrinsic+json": {
              "type": "string"
            },
            "text/plain": [
              "'reira '"
            ]
          },
          "execution_count": 47,
          "metadata": {},
          "output_type": "execute_result"
        }
      ],
      "source": [
        "# Passando o Inicio e o fim retorno o intervalo desejado.\n",
        "nome[10:16]"
      ]
    },
    {
      "cell_type": "code",
      "execution_count": null,
      "metadata": {
        "colab": {
          "base_uri": "https://localhost:8080/",
          "height": 35
        },
        "id": "5g-w0HJqpF7S",
        "outputId": "11883a45-a303-4b8b-cc30-9ff686a854c7"
      },
      "outputs": [
        {
          "data": {
            "application/vnd.google.colaboratory.intrinsic+json": {
              "type": "string"
            },
            "text/plain": [
              "'ioPria'"
            ]
          },
          "execution_count": 48,
          "metadata": {},
          "output_type": "execute_result"
        }
      ],
      "source": [
        "# O passo indica o intervalo que vai pular de quanto em quanto.\n",
        "nome[4:16:2]"
      ]
    },
    {
      "cell_type": "code",
      "execution_count": null,
      "metadata": {
        "colab": {
          "base_uri": "https://localhost:8080/",
          "height": 35
        },
        "id": "Uce1V5Y8pZgl",
        "outputId": "d0dcd578-c0e0-42f1-9f1b-f593308e31e6"
      },
      "outputs": [
        {
          "data": {
            "application/vnd.google.colaboratory.intrinsic+json": {
              "type": "string"
            },
            "text/plain": [
              "'Rodrigo Pereira de Carvalho'"
            ]
          },
          "execution_count": 49,
          "metadata": {},
          "output_type": "execute_result"
        }
      ],
      "source": [
        "# Sem passar o start e sem passar o stop, vai retornar todo o intervalo.\n",
        "nome[:]"
      ]
    },
    {
      "cell_type": "code",
      "execution_count": null,
      "metadata": {
        "colab": {
          "base_uri": "https://localhost:8080/",
          "height": 35
        },
        "id": "kiTEeewupoX1",
        "outputId": "668fc148-a3ed-4c84-98ac-6162106bb1b3"
      },
      "outputs": [
        {
          "data": {
            "application/vnd.google.colaboratory.intrinsic+json": {
              "type": "string"
            },
            "text/plain": [
              "'ohlavraC ed ariereP ogirdoR'"
            ]
          },
          "execution_count": 50,
          "metadata": {},
          "output_type": "execute_result"
        }
      ],
      "source": [
        "# Sem passar o start e sem passar o stop, apenas informando o step negativo vai espelhar a string.\n",
        "nome[::-1]"
      ]
    },
    {
      "cell_type": "markdown",
      "metadata": {
        "id": "2zf_E1O9qcSC"
      },
      "source": [
        "# Strings Multiplas Linhas ou Strings Triplas"
      ]
    },
    {
      "cell_type": "code",
      "execution_count": null,
      "metadata": {
        "colab": {
          "background_save": true,
          "base_uri": "https://localhost:8080/"
        },
        "id": "QDEGvqFzqfqy",
        "outputId": "cc66f17d-a60f-4778-cf41-084f9a9e1e7c"
      },
      "outputs": [
        {
          "name": "stdout",
          "output_type": "stream",
          "text": [
            "'Olá, meu nome é Rodrigo\n",
            "      estou aprendendo Python.' \n"
          ]
        }
      ],
      "source": [
        "# f'''      '''\n",
        "\n",
        "nome = 'Rodrigo'\n",
        "\n",
        "print(f''''Olá, meu nome é {nome}\n",
        "      estou aprendendo Python.' ''')"
      ]
    },
    {
      "cell_type": "code",
      "execution_count": null,
      "metadata": {
        "colab": {
          "background_save": true
        },
        "id": "mgDp3tNTsQ29",
        "outputId": "d4617a8f-d4e5-4859-8c0e-328e3f10a0b8"
      },
      "outputs": [
        {
          "name": "stdout",
          "output_type": "stream",
          "text": [
            " \n",
            "    ==========menu==========\n",
            "\n",
            "    1 - deposito\n",
            "    2 - saque\n",
            "    3 - sair\n",
            "\n",
            "    ========================\n",
            "    \n",
            "    obrigado por usar nosso sistema\n",
            "\n"
          ]
        }
      ],
      "source": [
        "print(''' \n",
        "    ==========menu==========\n",
        "\n",
        "    1 - deposito\n",
        "    2 - saque\n",
        "    3 - sair\n",
        "\n",
        "    ========================\n",
        "    \n",
        "    obrigado por usar nosso sistema\n",
        "''')"
      ]
    }
  ],
  "metadata": {
    "colab": {
      "provenance": [],
      "authorship_tag": "ABX9TyOqiV7z1Ps8uLAmVS0rN4uC",
      "include_colab_link": true
    },
    "kernelspec": {
      "display_name": "Python 3",
      "name": "python3"
    },
    "language_info": {
      "name": "python"
    }
  },
  "nbformat": 4,
  "nbformat_minor": 0
}
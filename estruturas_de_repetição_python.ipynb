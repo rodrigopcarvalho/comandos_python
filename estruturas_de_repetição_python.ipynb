{
  "nbformat": 4,
  "nbformat_minor": 0,
  "metadata": {
    "colab": {
      "provenance": [],
      "authorship_tag": "ABX9TyN3usaC2Ln2ui+eW+RpKv0U",
      "include_colab_link": true
    },
    "kernelspec": {
      "name": "python3",
      "display_name": "Python 3"
    },
    "language_info": {
      "name": "python"
    }
  },
  "cells": [
    {
      "cell_type": "markdown",
      "metadata": {
        "id": "view-in-github",
        "colab_type": "text"
      },
      "source": [
        "<a href=\"https://colab.research.google.com/github/rodrigopcarvalho/comandos_python/blob/main/estruturas_de_repeti%C3%A7%C3%A3o_python.ipynb\" target=\"_parent\"><img src=\"https://colab.research.google.com/assets/colab-badge.svg\" alt=\"Open In Colab\"/></a>"
      ]
    },
    {
      "cell_type": "code",
      "execution_count": 9,
      "metadata": {
        "colab": {
          "base_uri": "https://localhost:8080/"
        },
        "id": "bugZ809KzDPh",
        "outputId": "7df28f7b-ef03-4f0d-a987-6b2fb118783d"
      },
      "outputs": [
        {
          "output_type": "stream",
          "name": "stdout",
          "text": [
            "Rodrigo\n",
            "Marcia\n",
            "Mariana\n"
          ]
        }
      ],
      "source": [
        "# Estruturas de Repetição\n",
        "\n",
        "# for\n",
        "# while\n",
        "\n",
        "nomes = ['Rodrigo', 'Marcia', 'Mariana']\n",
        "for n in nomes:\n",
        "    print(n)"
      ]
    },
    {
      "cell_type": "code",
      "source": [
        "contador = 0\n",
        "while contador < 5:\n",
        "    print(contador)\n",
        "    contador = contador + 1"
      ],
      "metadata": {
        "colab": {
          "base_uri": "https://localhost:8080/"
        },
        "id": "AqB77lYQ0L_y",
        "outputId": "06fdb10b-1eb5-488b-95aa-9f8fadfb92d8"
      },
      "execution_count": 8,
      "outputs": [
        {
          "output_type": "stream",
          "name": "stdout",
          "text": [
            "0\n",
            "1\n",
            "2\n",
            "3\n",
            "4\n"
          ]
        }
      ]
    }
  ]
}
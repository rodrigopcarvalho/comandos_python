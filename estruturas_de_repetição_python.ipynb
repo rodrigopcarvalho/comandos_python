{
  "nbformat": 4,
  "nbformat_minor": 0,
  "metadata": {
    "colab": {
      "provenance": [],
      "authorship_tag": "ABX9TyP6rZTK4or+89gDixwjG2dZ",
      "include_colab_link": true
    },
    "kernelspec": {
      "name": "python3",
      "display_name": "Python 3"
    },
    "language_info": {
      "name": "python"
    }
  },
  "cells": [
    {
      "cell_type": "markdown",
      "metadata": {
        "id": "view-in-github",
        "colab_type": "text"
      },
      "source": [
        "<a href=\"https://colab.research.google.com/github/rodrigopcarvalho/comandos_python/blob/main/estruturas_de_repeti%C3%A7%C3%A3o_python.ipynb\" target=\"_parent\"><img src=\"https://colab.research.google.com/assets/colab-badge.svg\" alt=\"Open In Colab\"/></a>"
      ]
    },
    {
      "cell_type": "markdown",
      "source": [
        "# for"
      ],
      "metadata": {
        "id": "SiyowUun5vFU"
      }
    },
    {
      "cell_type": "code",
      "execution_count": 2,
      "metadata": {
        "colab": {
          "base_uri": "https://localhost:8080/"
        },
        "id": "bugZ809KzDPh",
        "outputId": "a22402ce-d05b-4168-f16c-b7ea4680a777"
      },
      "outputs": [
        {
          "output_type": "stream",
          "name": "stdout",
          "text": [
            "Rodrigo\n",
            "Marcia\n",
            "Mariana\n"
          ]
        }
      ],
      "source": [
        "# Estruturas de Repetição\n",
        "\n",
        "# for\n",
        "# while\n",
        "\n",
        "nomes = ['Rodrigo', 'Marcia', 'Mariana']\n",
        "for i in nomes:\n",
        "    print(i)"
      ]
    },
    {
      "cell_type": "code",
      "source": [
        "# Calcular o imposto sobre vários valores\n",
        "\n",
        "lista_precos = [10, 10, 200, 50, 300]\n",
        "\n",
        "for preco in lista_precos:\n",
        "    print(preco * 0.10)"
      ],
      "metadata": {
        "colab": {
          "base_uri": "https://localhost:8080/"
        },
        "id": "BKXVFDAt22ce",
        "outputId": "63e12b92-1214-4dfa-a6fa-db8758df6235"
      },
      "execution_count": 5,
      "outputs": [
        {
          "output_type": "stream",
          "name": "stdout",
          "text": [
            "1.0\n",
            "1.0\n",
            "20.0\n",
            "5.0\n",
            "30.0\n"
          ]
        }
      ]
    },
    {
      "cell_type": "code",
      "source": [
        "# Utilizando range()\n",
        "\n",
        "for i in range(5):\n",
        "    print('rodrigordgcarvalho@gmail.com')"
      ],
      "metadata": {
        "colab": {
          "base_uri": "https://localhost:8080/"
        },
        "id": "05PdXPfu5Njd",
        "outputId": "07add34f-dfe9-4ec7-dbfa-331d9c37554b"
      },
      "execution_count": 7,
      "outputs": [
        {
          "output_type": "stream",
          "name": "stdout",
          "text": [
            "rodrigordgcarvalho@gmail.com\n",
            "rodrigordgcarvalho@gmail.com\n",
            "rodrigordgcarvalho@gmail.com\n",
            "rodrigordgcarvalho@gmail.com\n",
            "rodrigordgcarvalho@gmail.com\n"
          ]
        }
      ]
    },
    {
      "cell_type": "markdown",
      "source": [
        "#while"
      ],
      "metadata": {
        "id": "RM5ZkZUu5oC8"
      }
    },
    {
      "cell_type": "code",
      "source": [
        "contador = 0\n",
        "while contador < 5:\n",
        "    print(contador)\n",
        "    contador = contador + 1"
      ],
      "metadata": {
        "colab": {
          "base_uri": "https://localhost:8080/"
        },
        "id": "AqB77lYQ0L_y",
        "outputId": "06fdb10b-1eb5-488b-95aa-9f8fadfb92d8"
      },
      "execution_count": null,
      "outputs": [
        {
          "output_type": "stream",
          "name": "stdout",
          "text": [
            "0\n",
            "1\n",
            "2\n",
            "3\n",
            "4\n"
          ]
        }
      ]
    }
  ]
}